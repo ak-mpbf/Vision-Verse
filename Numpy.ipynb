{
  "nbformat": 4,
  "nbformat_minor": 0,
  "metadata": {
    "colab": {
      "provenance": [],
      "include_colab_link": true
    },
    "kernelspec": {
      "name": "python3",
      "display_name": "Python 3"
    },
    "language_info": {
      "name": "python"
    }
  },
  "cells": [
    {
      "cell_type": "markdown",
      "metadata": {
        "id": "view-in-github",
        "colab_type": "text"
      },
      "source": [
        "<a href=\"https://colab.research.google.com/github/ak-mpbf/Vision-Verse/blob/main/Numpy.ipynb\" target=\"_parent\"><img src=\"https://colab.research.google.com/assets/colab-badge.svg\" alt=\"Open In Colab\"/></a>"
      ]
    },
    {
      "cell_type": "markdown",
      "source": [
        "Save a copy in Drive of the given notebook and make changes.\n",
        "\n",
        "Output for each of the questions is provided below each question. You need to produce the same output."
      ],
      "metadata": {
        "id": "DRMwEtL9TMHl"
      }
    },
    {
      "cell_type": "code",
      "source": [
        "import numpy as np"
      ],
      "metadata": {
        "id": "VeuI0DyQTq50"
      },
      "execution_count": null,
      "outputs": []
    },
    {
      "cell_type": "markdown",
      "source": [
        " 1. Create a 4x6 matrix filled with all zeros."
      ],
      "metadata": {
        "id": "vzpMMu5tlLQl"
      }
    },
    {
      "cell_type": "code",
      "source": [
        "a=np.zeros((4,6),dtype=int)\n",
        "print(a)"
      ],
      "metadata": {
        "colab": {
          "base_uri": "https://localhost:8080/"
        },
        "id": "n6yPmDGNl5yz",
        "outputId": "96341b08-a529-4635-ebdb-28f5a18fdf99"
      },
      "execution_count": null,
      "outputs": [
        {
          "output_type": "stream",
          "name": "stdout",
          "text": [
            "[[0 0 0 0 0 0]\n",
            " [0 0 0 0 0 0]\n",
            " [0 0 0 0 0 0]\n",
            " [0 0 0 0 0 0]]\n"
          ]
        }
      ]
    },
    {
      "cell_type": "markdown",
      "source": [
        "2. Create a 5x5 matrix filled with all ones."
      ],
      "metadata": {
        "id": "h2FIk_vNmvRa"
      }
    },
    {
      "cell_type": "code",
      "source": [
        "b=np.ones((5,5))\n",
        "print(b)"
      ],
      "metadata": {
        "colab": {
          "base_uri": "https://localhost:8080/"
        },
        "id": "brCfmuw0m-yW",
        "outputId": "e5cea659-ddb2-48fa-ca29-e624d45d0ae3"
      },
      "execution_count": null,
      "outputs": [
        {
          "output_type": "stream",
          "name": "stdout",
          "text": [
            "[[1. 1. 1. 1. 1.]\n",
            " [1. 1. 1. 1. 1.]\n",
            " [1. 1. 1. 1. 1.]\n",
            " [1. 1. 1. 1. 1.]\n",
            " [1. 1. 1. 1. 1.]]\n"
          ]
        }
      ]
    },
    {
      "cell_type": "markdown",
      "source": [
        "3.Create a matrix of (4,5) filled with 4."
      ],
      "metadata": {
        "id": "QI3JcIBRQgdV"
      }
    },
    {
      "cell_type": "code",
      "source": [
        "c=np.full((4,5),4,dtype=int)\n",
        "print(c)"
      ],
      "metadata": {
        "colab": {
          "base_uri": "https://localhost:8080/"
        },
        "id": "yNZmcJQYQnTq",
        "outputId": "23a705c1-4265-4230-ca09-d644508d0ef4"
      },
      "execution_count": null,
      "outputs": [
        {
          "output_type": "stream",
          "name": "stdout",
          "text": [
            "[[4 4 4 4 4]\n",
            " [4 4 4 4 4]\n",
            " [4 4 4 4 4]\n",
            " [4 4 4 4 4]]\n"
          ]
        }
      ]
    },
    {
      "cell_type": "markdown",
      "source": [
        "For questions 4-13, consider the matrix\n",
        "\n",
        "a=[[1,2,3],[1,4,5],[8,4,2]]\n",
        "\n",
        "\n",
        "4. Write a code to get print the shape of the given matrix.\n",
        "\n",
        "\n"
      ],
      "metadata": {
        "id": "9EPUHqRWxUGG"
      }
    },
    {
      "cell_type": "code",
      "source": [
        "a=np.array([[1,2,3],[1,4,5],[8,4,2]])\n",
        "a.shape"
      ],
      "metadata": {
        "colab": {
          "base_uri": "https://localhost:8080/"
        },
        "id": "wvDHpmw8xUf0",
        "outputId": "f9fdbb5f-4cc7-4692-8c00-151146e639ae"
      },
      "execution_count": null,
      "outputs": [
        {
          "output_type": "execute_result",
          "data": {
            "text/plain": [
              "(3, 3)"
            ]
          },
          "metadata": {},
          "execution_count": 5
        }
      ]
    },
    {
      "cell_type": "markdown",
      "source": [
        "5.Write the code to print number of elements in a."
      ],
      "metadata": {
        "id": "8RZy077YyOCP"
      }
    },
    {
      "cell_type": "code",
      "source": [
        "a.size"
      ],
      "metadata": {
        "colab": {
          "base_uri": "https://localhost:8080/"
        },
        "id": "52TT7eTmyOec",
        "outputId": "b53aef9a-d26c-439b-bf25-21e051c176ae"
      },
      "execution_count": null,
      "outputs": [
        {
          "output_type": "execute_result",
          "data": {
            "text/plain": [
              "9"
            ]
          },
          "metadata": {},
          "execution_count": 6
        }
      ]
    },
    {
      "cell_type": "markdown",
      "source": [
        "6. Print the 2nd row,1st column and element at (1,2) of a."
      ],
      "metadata": {
        "id": "luN65JwsywXF"
      }
    },
    {
      "cell_type": "code",
      "source": [
        "print(a[2,:])\n",
        "print(a[:,1])\n",
        "print(a[1,2])"
      ],
      "metadata": {
        "colab": {
          "base_uri": "https://localhost:8080/"
        },
        "id": "3vaGSKkvywqE",
        "outputId": "22af3942-e621-4e6e-cc43-5ebe2adb649c"
      },
      "execution_count": null,
      "outputs": [
        {
          "output_type": "stream",
          "name": "stdout",
          "text": [
            "[8 4 2]\n",
            "[2 4 4]\n",
            "5\n"
          ]
        }
      ]
    },
    {
      "cell_type": "markdown",
      "source": [
        "7. Change the element at (2,1) to 5."
      ],
      "metadata": {
        "id": "Tl8iW0SB0SAz"
      }
    },
    {
      "cell_type": "code",
      "source": [
        "a[2,1]=5\n",
        "print(a)"
      ],
      "metadata": {
        "colab": {
          "base_uri": "https://localhost:8080/"
        },
        "id": "X-J4EVFy0SX9",
        "outputId": "4979b8c9-98b5-4ae7-c139-4c07ee6fc789"
      },
      "execution_count": null,
      "outputs": [
        {
          "output_type": "stream",
          "name": "stdout",
          "text": [
            "[[1 2 3]\n",
            " [1 4 5]\n",
            " [8 5 2]]\n"
          ]
        }
      ]
    },
    {
      "cell_type": "markdown",
      "source": [
        "8. Print the first and the last element of the first row using stepsize approach."
      ],
      "metadata": {
        "id": "_ZEJ3V01OCPv"
      }
    },
    {
      "cell_type": "code",
      "source": [
        "a[0,::2]"
      ],
      "metadata": {
        "colab": {
          "base_uri": "https://localhost:8080/"
        },
        "id": "Ls6bN0l8OCfI",
        "outputId": "5ae9e436-5de3-4c60-c635-c54ae1da6f32"
      },
      "execution_count": null,
      "outputs": [
        {
          "output_type": "execute_result",
          "data": {
            "text/plain": [
              "array([1, 3])"
            ]
          },
          "metadata": {},
          "execution_count": 9
        }
      ]
    },
    {
      "cell_type": "markdown",
      "source": [
        "9. Print the maximum and minimum values of a."
      ],
      "metadata": {
        "id": "q5uREqwgPMPz"
      }
    },
    {
      "cell_type": "code",
      "source": [
        "print(np.max(a))\n",
        "print(np.min(a))"
      ],
      "metadata": {
        "colab": {
          "base_uri": "https://localhost:8080/"
        },
        "id": "boAOEPupPrld",
        "outputId": "7555bb84-3f70-4172-b2b8-d6221fd3a974"
      },
      "execution_count": null,
      "outputs": [
        {
          "output_type": "stream",
          "name": "stdout",
          "text": [
            "8\n",
            "1\n"
          ]
        }
      ]
    },
    {
      "cell_type": "markdown",
      "source": [
        "10. Print row-wise maximum values and their indicies of a."
      ],
      "metadata": {
        "id": "9QElTp8gP8QW"
      }
    },
    {
      "cell_type": "code",
      "source": [
        "print(np.max(a,axis=1))\n",
        "print(np.argmax(a,axis=1))"
      ],
      "metadata": {
        "colab": {
          "base_uri": "https://localhost:8080/"
        },
        "id": "O5L3zh78QEf_",
        "outputId": "53c3344f-d3bb-4b40-86f9-f728f36c2d3b"
      },
      "execution_count": null,
      "outputs": [
        {
          "output_type": "stream",
          "name": "stdout",
          "text": [
            "[3 5 8]\n",
            "[2 2 0]\n"
          ]
        }
      ]
    },
    {
      "cell_type": "markdown",
      "source": [
        "11. Divide all the elements of a by 4."
      ],
      "metadata": {
        "id": "0IE744FoQSWG"
      }
    },
    {
      "cell_type": "code",
      "source": [
        "print(a/4)"
      ],
      "metadata": {
        "colab": {
          "base_uri": "https://localhost:8080/"
        },
        "id": "oPCET_aGRUZs",
        "outputId": "6d87e9b7-a7fc-402e-ae4a-3ecaca5a5fca"
      },
      "execution_count": null,
      "outputs": [
        {
          "output_type": "stream",
          "name": "stdout",
          "text": [
            "[[0.25 0.5  0.75]\n",
            " [0.25 1.   1.25]\n",
            " [2.   1.25 0.5 ]]\n"
          ]
        }
      ]
    },
    {
      "cell_type": "markdown",
      "source": [
        "12. Sort a along the second axis."
      ],
      "metadata": {
        "id": "XJC4bsKqZGH5"
      }
    },
    {
      "cell_type": "code",
      "source": [
        "np.sort(a,axis=1)"
      ],
      "metadata": {
        "colab": {
          "base_uri": "https://localhost:8080/"
        },
        "id": "KNvZ1--cZJqQ",
        "outputId": "60dfc25c-f700-4a64-8aee-ede0f3a4dd90"
      },
      "execution_count": null,
      "outputs": [
        {
          "output_type": "execute_result",
          "data": {
            "text/plain": [
              "array([[1, 2, 3],\n",
              "       [1, 4, 5],\n",
              "       [2, 5, 8]])"
            ]
          },
          "metadata": {},
          "execution_count": 13
        }
      ]
    },
    {
      "cell_type": "markdown",
      "source": [
        "13. Print the indices that would sort a along the second axis."
      ],
      "metadata": {
        "id": "sJwxQ-DFZOab"
      }
    },
    {
      "cell_type": "code",
      "source": [
        "np.argsort(a,axis=1)"
      ],
      "metadata": {
        "colab": {
          "base_uri": "https://localhost:8080/"
        },
        "id": "MunD903tZVD-",
        "outputId": "87a8f9c1-eb39-4d57-e0e7-c9b9e1552679"
      },
      "execution_count": null,
      "outputs": [
        {
          "output_type": "execute_result",
          "data": {
            "text/plain": [
              "array([[0, 1, 2],\n",
              "       [0, 1, 2],\n",
              "       [2, 1, 0]])"
            ]
          },
          "metadata": {},
          "execution_count": 14
        }
      ]
    },
    {
      "cell_type": "markdown",
      "source": [
        "14. Create an identity matrix of size 6x6."
      ],
      "metadata": {
        "id": "BoUOb-UORXum"
      }
    },
    {
      "cell_type": "code",
      "source": [
        "np.eye(6)"
      ],
      "metadata": {
        "colab": {
          "base_uri": "https://localhost:8080/"
        },
        "id": "Pgt0H_6tRmMg",
        "outputId": "92361d57-366d-4c04-e054-14d1805bb34d"
      },
      "execution_count": null,
      "outputs": [
        {
          "output_type": "execute_result",
          "data": {
            "text/plain": [
              "array([[1., 0., 0., 0., 0., 0.],\n",
              "       [0., 1., 0., 0., 0., 0.],\n",
              "       [0., 0., 1., 0., 0., 0.],\n",
              "       [0., 0., 0., 1., 0., 0.],\n",
              "       [0., 0., 0., 0., 1., 0.],\n",
              "       [0., 0., 0., 0., 0., 1.]])"
            ]
          },
          "metadata": {},
          "execution_count": 15
        }
      ]
    },
    {
      "cell_type": "markdown",
      "source": [
        "15. Let b=[1,4,3,2,6,8,5,4,2,0], split b into 3 arrays each of 3,4,3 elements."
      ],
      "metadata": {
        "id": "4flSMoMVRrwm"
      }
    },
    {
      "cell_type": "code",
      "source": [
        "b=np.array([1,4,3,2,6,8,5,4,2,0])\n",
        "print(np.split(b,[3,7]))"
      ],
      "metadata": {
        "id": "j2d8D-mfRWxI",
        "colab": {
          "base_uri": "https://localhost:8080/"
        },
        "outputId": "a53e7ac0-6abd-4a74-9f3a-1526e948e316"
      },
      "execution_count": null,
      "outputs": [
        {
          "output_type": "stream",
          "name": "stdout",
          "text": [
            "[array([1, 4, 3]), array([2, 6, 8, 5]), array([4, 2, 0])]\n"
          ]
        }
      ]
    },
    {
      "cell_type": "markdown",
      "source": [
        "16.Create a 1-D array of 40 evenly spaced elements between 0. and 1., inclusive."
      ],
      "metadata": {
        "id": "ZiDMu4HQzzh4"
      }
    },
    {
      "cell_type": "code",
      "source": [
        " arr=np.linspace(0, 1, 40)\n",
        " print(arr)"
      ],
      "metadata": {
        "id": "ZUqfFQAZzydo",
        "colab": {
          "base_uri": "https://localhost:8080/"
        },
        "outputId": "37f15e84-9e95-4594-f019-34cd4e4265a8"
      },
      "execution_count": null,
      "outputs": [
        {
          "output_type": "stream",
          "name": "stdout",
          "text": [
            "[0.         0.02564103 0.05128205 0.07692308 0.1025641  0.12820513\n",
            " 0.15384615 0.17948718 0.20512821 0.23076923 0.25641026 0.28205128\n",
            " 0.30769231 0.33333333 0.35897436 0.38461538 0.41025641 0.43589744\n",
            " 0.46153846 0.48717949 0.51282051 0.53846154 0.56410256 0.58974359\n",
            " 0.61538462 0.64102564 0.66666667 0.69230769 0.71794872 0.74358974\n",
            " 0.76923077 0.79487179 0.82051282 0.84615385 0.87179487 0.8974359\n",
            " 0.92307692 0.94871795 0.97435897 1.        ]\n"
          ]
        }
      ]
    },
    {
      "cell_type": "markdown",
      "source": [
        "17. Mutliply given arrays element-wise.\n",
        "\n",
        "a=[[4,7,2],[1,3,9]]\n",
        "\n",
        "b=[[1,5,0],[2,7,5]]"
      ],
      "metadata": {
        "id": "U4BSpQosnREt"
      }
    },
    {
      "cell_type": "code",
      "source": [
        "a1=np.array([[4,7,2],[1,3,9]])\n",
        "b1=np.array([[1,5,0],[2,7,5]])\n",
        "c1=np.multiply(a1,b1)\n",
        "print(c1)"
      ],
      "metadata": {
        "id": "3cDb_yGInQBP",
        "colab": {
          "base_uri": "https://localhost:8080/"
        },
        "outputId": "4490a22a-3e12-45e9-a662-615737ad79fa"
      },
      "execution_count": null,
      "outputs": [
        {
          "output_type": "stream",
          "name": "stdout",
          "text": [
            "[[ 4 35  0]\n",
            " [ 2 21 45]]\n"
          ]
        }
      ]
    },
    {
      "cell_type": "markdown",
      "source": [
        "18. Create a 3x2 array with random values from 0 to 1."
      ],
      "metadata": {
        "id": "eTjRvsNmo1dm"
      }
    },
    {
      "cell_type": "code",
      "source": [
        "arr1=np.random.rand(3, 2)\n",
        "print(arr1)"
      ],
      "metadata": {
        "id": "9OaI6Vjd0_3Z",
        "colab": {
          "base_uri": "https://localhost:8080/"
        },
        "outputId": "83da0a2e-f06c-4e33-cc45-24febdf0c842"
      },
      "execution_count": null,
      "outputs": [
        {
          "output_type": "stream",
          "name": "stdout",
          "text": [
            "[[0.44380695 0.82552715]\n",
            " [0.04814109 0.56456936]\n",
            " [0.1761237  0.49200565]]\n"
          ]
        }
      ]
    }
  ]
}